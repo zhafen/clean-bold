{
 "cells": [
  {
   "cell_type": "code",
   "execution_count": null,
   "id": "673490f0-a017-4441-8ef9-d6b99349ff5f",
   "metadata": {},
   "outputs": [],
   "source": [
    "import numpy as np"
   ]
  },
  {
   "cell_type": "code",
   "execution_count": null,
   "id": "1c9048b7-34bc-4f83-98a8-75273a1ad7fe",
   "metadata": {},
   "outputs": [],
   "source": [
    "import matplotlib\n",
    "import matplotlib.pyplot as plt"
   ]
  },
  {
   "cell_type": "code",
   "execution_count": null,
   "id": "f491677a-c6c1-4df7-ab88-abc5a7902918",
   "metadata": {},
   "outputs": [],
   "source": [
    "matplotlib.style.use( './clean-bold.mplstyle' )"
   ]
  },
  {
   "cell_type": "markdown",
   "id": "6b199cd1-84d3-469c-b532-7bee3310f1d2",
   "metadata": {
    "tags": []
   },
   "source": [
    "# Scatter Plot"
   ]
  },
  {
   "cell_type": "code",
   "execution_count": null,
   "id": "3be0bb78-843e-463e-9062-4b7b0b55fc8e",
   "metadata": {
    "tags": []
   },
   "outputs": [],
   "source": [
    "fig = plt.figure()\n",
    "ax = plt.gca()\n",
    "\n",
    "ax.scatter(\n",
    "    np.random.normal( size=100, ),\n",
    "    10.**np.random.normal( size=100, ),\n",
    ")\n",
    "\n",
    "ax.set_yscale( 'log' )"
   ]
  },
  {
   "cell_type": "code",
   "execution_count": null,
   "id": "30e4a6f8-5444-4f9e-99e8-7cbc0edd6964",
   "metadata": {},
   "outputs": [],
   "source": []
  }
 ],
 "metadata": {
  "kernelspec": {
   "display_name": "Python 3",
   "language": "python",
   "name": "python3"
  },
  "language_info": {
   "codemirror_mode": {
    "name": "ipython",
    "version": 3
   },
   "file_extension": ".py",
   "mimetype": "text/x-python",
   "name": "python",
   "nbconvert_exporter": "python",
   "pygments_lexer": "ipython3",
   "version": "3.9.5"
  }
 },
 "nbformat": 4,
 "nbformat_minor": 5
}
